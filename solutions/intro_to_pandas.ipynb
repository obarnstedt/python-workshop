{
 "cells": [
  {
   "cell_type": "markdown",
   "metadata": {},
   "source": [
    "# Working with packages and modules"
   ]
  },
  {
   "cell_type": "markdown",
   "metadata": {},
   "source": [
    "So far, we have been using Python's internal functions. These are very limited, but, thankfully, there is a plethora of packages that can do most tasks you desire. Because many of these packages are quite complex in the functionality they provide and their interdependencies with other packages, it is important to work with virtual environments, e.g., through conda, for specific projects/workflows/complex packages."
   ]
  },
  {
   "cell_type": "code",
   "execution_count": null,
   "metadata": {},
   "outputs": [],
   "source": [
    "abs(-5)"
   ]
  },
  {
   "cell_type": "code",
   "execution_count": null,
   "metadata": {},
   "outputs": [],
   "source": [
    "sqrt(4)  # won't work – can you think of a workaround though?"
   ]
  },
  {
   "cell_type": "code",
   "execution_count": null,
   "metadata": {},
   "outputs": [],
   "source": [
    "# importing packages\n",
    "import numpy  # comprehensive package for numeric array calculations"
   ]
  },
  {
   "cell_type": "code",
   "execution_count": null,
   "metadata": {},
   "outputs": [],
   "source": [
    "numpy.sqrt(4)"
   ]
  },
  {
   "cell_type": "code",
   "execution_count": null,
   "metadata": {},
   "outputs": [],
   "source": [
    "import numpy as np  # if you're lazy..."
   ]
  },
  {
   "cell_type": "code",
   "execution_count": null,
   "metadata": {},
   "outputs": [],
   "source": [
    "np.sqrt(4)"
   ]
  },
  {
   "cell_type": "code",
   "execution_count": null,
   "metadata": {},
   "outputs": [],
   "source": [
    "randint(10)  # this function doesn't exist in vanilla Python"
   ]
  },
  {
   "cell_type": "code",
   "execution_count": null,
   "metadata": {},
   "outputs": [],
   "source": [
    "np.random.randint(10)  # random number generator (integers from 0 to 10)"
   ]
  },
  {
   "cell_type": "code",
   "execution_count": null,
   "metadata": {},
   "outputs": [],
   "source": [
    "from numpy import random  # you can import specific \"MODULES\" from packages like so\n",
    "random.randint(10)"
   ]
  },
  {
   "cell_type": "code",
   "execution_count": null,
   "metadata": {},
   "outputs": [],
   "source": [
    "from numpy import random as rnd  # you can also give them names you like\n",
    "rnd.randint(10)"
   ]
  },
  {
   "cell_type": "markdown",
   "metadata": {
    "id": "q4cbGRT39I1H"
   },
   "source": [
    "# Pandas basics\n",
    "parts modified from https://pandas.pydata.org/docs/user_guide/10min.html"
   ]
  },
  {
   "cell_type": "code",
   "execution_count": null,
   "metadata": {
    "id": "ROj_dvM08w3L"
   },
   "outputs": [],
   "source": [
    "import pandas as pd  # numpy-based dataframe calculations"
   ]
  },
  {
   "cell_type": "markdown",
   "metadata": {},
   "source": [
    "Pandas provides two types of classes for handling data:\n",
    "\n",
    "Series: a one-dimensional labeled array holding data of any type\n",
    "such as integers, strings, Python objects etc.\n",
    "\n",
    "DataFrame: a two-dimensional data structure that holds data like a two-dimension array or a table with rows and columns."
   ]
  },
  {
   "cell_type": "code",
   "execution_count": null,
   "metadata": {},
   "outputs": [],
   "source": [
    "s = pd.Series([1, 3, 5, np.nan, 6, 8])\n",
    "s"
   ]
  },
  {
   "cell_type": "code",
   "execution_count": null,
   "metadata": {
    "colab": {
     "base_uri": "https://localhost:8080/"
    },
    "id": "zSBsF_bP97_F",
    "outputId": "aa192f40-7f5c-4040-f2ba-e28c71fbed9c"
   },
   "outputs": [],
   "source": [
    "array = np.random.rand(20, 4)\n",
    "array"
   ]
  },
  {
   "cell_type": "code",
   "execution_count": null,
   "metadata": {
    "colab": {
     "base_uri": "https://localhost:8080/",
     "height": 676
    },
    "id": "FSiezBm19GAt",
    "outputId": "12978d71-f8ee-4d44-fa67-de8843c3469b"
   },
   "outputs": [],
   "source": [
    "df = pd.DataFrame(data=array, index=range(20), columns=['col1', 'col2', 'col3', 'col4'])\n",
    "df"
   ]
  },
  {
   "cell_type": "markdown",
   "metadata": {},
   "source": [
    "## Viewing"
   ]
  },
  {
   "cell_type": "code",
   "execution_count": null,
   "metadata": {},
   "outputs": [],
   "source": [
    "df.dtypes  # data types – do you know which data types exist?"
   ]
  },
  {
   "cell_type": "code",
   "execution_count": null,
   "metadata": {},
   "outputs": [],
   "source": [
    "df.head()"
   ]
  },
  {
   "cell_type": "code",
   "execution_count": null,
   "metadata": {},
   "outputs": [],
   "source": [
    "df.tail(3)"
   ]
  },
  {
   "cell_type": "code",
   "execution_count": null,
   "metadata": {},
   "outputs": [],
   "source": [
    "df.index"
   ]
  },
  {
   "cell_type": "code",
   "execution_count": null,
   "metadata": {},
   "outputs": [],
   "source": [
    "df.columns"
   ]
  },
  {
   "cell_type": "code",
   "execution_count": null,
   "metadata": {},
   "outputs": [],
   "source": [
    "df.describe()"
   ]
  },
  {
   "cell_type": "code",
   "execution_count": null,
   "metadata": {},
   "outputs": [],
   "source": [
    "df.T  # transpose"
   ]
  },
  {
   "cell_type": "code",
   "execution_count": null,
   "metadata": {},
   "outputs": [],
   "source": [
    "df.sort_index(axis=1, ascending=False)"
   ]
  },
  {
   "cell_type": "code",
   "execution_count": null,
   "metadata": {},
   "outputs": [],
   "source": [
    "df.sort_values(by=\"col2\")"
   ]
  },
  {
   "cell_type": "markdown",
   "metadata": {
    "id": "AdDfmhN0AMPq"
   },
   "source": [
    "## Indexing"
   ]
  },
  {
   "cell_type": "code",
   "execution_count": null,
   "metadata": {},
   "outputs": [],
   "source": [
    "df[\"col3\"]"
   ]
  },
  {
   "cell_type": "code",
   "execution_count": null,
   "metadata": {},
   "outputs": [],
   "source": [
    "df[17:20]"
   ]
  },
  {
   "cell_type": "code",
   "execution_count": null,
   "metadata": {},
   "outputs": [],
   "source": [
    "df.loc[17:20]  # more versatile"
   ]
  },
  {
   "cell_type": "code",
   "execution_count": null,
   "metadata": {},
   "outputs": [],
   "source": [
    "df.loc[15:16, [\"col2\", \"col4\"]]  # always FIRST ROW, then SECOND COLUMN"
   ]
  },
  {
   "cell_type": "code",
   "execution_count": null,
   "metadata": {
    "colab": {
     "base_uri": "https://localhost:8080/",
     "height": 143
    },
    "id": "my5Mv7zg-Qch",
    "outputId": "e83c63a3-c41d-4d78-9d16-4db0ffc8fe7c"
   },
   "outputs": [],
   "source": [
    "df.loc[(df.col1 > 0.5) & (df.col2 < 0.5)]  # select all rows where 'col1' is greater 0.5, 'col2' is smaller 0.5"
   ]
  },
  {
   "cell_type": "code",
   "execution_count": null,
   "metadata": {},
   "outputs": [],
   "source": [
    "df.iloc[3:5, 0:2]  # selecting by position: ILOC"
   ]
  },
  {
   "cell_type": "markdown",
   "metadata": {
    "id": "0fxwRWBpAOmQ"
   },
   "source": [
    "## Missing values"
   ]
  },
  {
   "cell_type": "code",
   "execution_count": null,
   "metadata": {
    "colab": {
     "base_uri": "https://localhost:8080/",
     "height": 676
    },
    "id": "E7GLGeli_RNR",
    "outputId": "451bd439-78c6-4bd9-d73f-1fd1fd345f91"
   },
   "outputs": [],
   "source": [
    "df.loc[(df.col1>0.5)&(df.col2<0.5)] = np.nan  # set these rows to NAN\n",
    "df"
   ]
  },
  {
   "cell_type": "code",
   "execution_count": null,
   "metadata": {
    "colab": {
     "base_uri": "https://localhost:8080/",
     "height": 582
    },
    "id": "meAbFsIS_7SC",
    "outputId": "7d5390ea-9cf0-4370-9691-f6d4bc010c15"
   },
   "outputs": [],
   "source": [
    "df.dropna()  # drop all rows with missing values (not saved!)"
   ]
  },
  {
   "cell_type": "code",
   "execution_count": null,
   "metadata": {},
   "outputs": [],
   "source": [
    "df.fillna(value=0)"
   ]
  },
  {
   "cell_type": "code",
   "execution_count": null,
   "metadata": {},
   "outputs": [],
   "source": [
    "df.isna()"
   ]
  },
  {
   "cell_type": "code",
   "execution_count": null,
   "metadata": {
    "colab": {
     "base_uri": "https://localhost:8080/",
     "height": 676
    },
    "id": "W1DoFJMq_seN",
    "outputId": "08eda0fe-0635-40e4-f3c2-2276e0ba0195"
   },
   "outputs": [],
   "source": [
    "df.interpolate(method='linear', inplace=True)  # interpolate missing values with 'linear' method, and saving the result\n",
    "df"
   ]
  },
  {
   "cell_type": "markdown",
   "metadata": {},
   "source": [
    "## Operations"
   ]
  },
  {
   "cell_type": "code",
   "execution_count": null,
   "metadata": {},
   "outputs": [],
   "source": [
    "df.mean()"
   ]
  },
  {
   "cell_type": "code",
   "execution_count": null,
   "metadata": {},
   "outputs": [],
   "source": [
    "df.mean(axis=1)"
   ]
  },
  {
   "cell_type": "code",
   "execution_count": null,
   "metadata": {
    "colab": {
     "base_uri": "https://localhost:8080/",
     "height": 269
    },
    "id": "Gb6216dt9PDz",
    "outputId": "d1abffce-8b52-4131-8119-ef968e303a1a"
   },
   "outputs": [],
   "source": [
    "df.rolling(window=3).mean()[::3] # 3x downsampling; using pandas dataframe METHOD (note: this is not saved!)"
   ]
  },
  {
   "cell_type": "code",
   "execution_count": null,
   "metadata": {},
   "outputs": [],
   "source": [
    "df.agg(lambda x: np.mean(x) * 5.6)  # apply for each column"
   ]
  },
  {
   "cell_type": "code",
   "execution_count": null,
   "metadata": {},
   "outputs": [],
   "source": [
    "df.transform(lambda x: x * 101.2)  # apply for each cell"
   ]
  },
  {
   "cell_type": "code",
   "execution_count": null,
   "metadata": {},
   "outputs": [],
   "source": [
    "df.fillna(0).multiply(10).astype(int)  # you can concatenate methods!"
   ]
  },
  {
   "cell_type": "markdown",
   "metadata": {},
   "source": [
    "## Merging"
   ]
  },
  {
   "cell_type": "code",
   "execution_count": null,
   "metadata": {},
   "outputs": [],
   "source": [
    "pieces = [df[:3], df[3:7], df[7:11]]\n",
    "pieces"
   ]
  },
  {
   "cell_type": "code",
   "execution_count": null,
   "metadata": {},
   "outputs": [],
   "source": [
    "pd.concat(pieces)"
   ]
  },
  {
   "cell_type": "markdown",
   "metadata": {},
   "source": [
    "## Pivot tables"
   ]
  },
  {
   "cell_type": "code",
   "execution_count": null,
   "metadata": {},
   "outputs": [],
   "source": [
    "df2 = pd.DataFrame(\n",
    "    {\n",
    "        \"A\": [\"one\", \"one\", \"two\", \"three\"] * 3,\n",
    "        \"B\": [\"A\", \"B\", \"C\"] * 4,\n",
    "        \"C\": [\"foo\", \"foo\", \"foo\", \"bar\", \"bar\", \"bar\"] * 2,\n",
    "        \"D\": np.random.randn(12),\n",
    "        \"E\": np.random.randn(12),\n",
    "    }\n",
    ")\n",
    "df2"
   ]
  },
  {
   "cell_type": "code",
   "execution_count": null,
   "metadata": {},
   "outputs": [],
   "source": [
    "df_pivot = pd.pivot_table(df2, values=\"D\", index=[\"A\", \"B\"], columns=[\"C\"])\n",
    "df_pivot"
   ]
  },
  {
   "cell_type": "markdown",
   "metadata": {},
   "source": [
    "# Importing and exporting data"
   ]
  },
  {
   "cell_type": "markdown",
   "metadata": {},
   "source": [
    "## Export formats"
   ]
  },
  {
   "cell_type": "code",
   "execution_count": null,
   "metadata": {},
   "outputs": [],
   "source": [
    "df.to_csv(\"../files/foo.csv\")"
   ]
  },
  {
   "cell_type": "code",
   "execution_count": null,
   "metadata": {},
   "outputs": [],
   "source": [
    "pd.read_csv(\"../files/foo.csv\")"
   ]
  },
  {
   "cell_type": "code",
   "execution_count": null,
   "metadata": {},
   "outputs": [],
   "source": [
    "df.to_clipboard()"
   ]
  },
  {
   "cell_type": "code",
   "execution_count": null,
   "metadata": {},
   "outputs": [],
   "source": [
    "df.to_excel(\"../files/foo.xlsx\")"
   ]
  },
  {
   "cell_type": "code",
   "execution_count": null,
   "metadata": {},
   "outputs": [],
   "source": [
    "df.to_hdf(\"../files/foo.h5\", key='df')"
   ]
  },
  {
   "cell_type": "code",
   "execution_count": null,
   "metadata": {},
   "outputs": [],
   "source": [
    "df.to_feather(\"../files/foo.feather\")"
   ]
  },
  {
   "cell_type": "markdown",
   "metadata": {},
   "source": [
    "# Playaround dataset"
   ]
  },
  {
   "cell_type": "markdown",
   "metadata": {},
   "source": [
    "There's a \"playaround.feather\" file in the \"files\" folder. Try the following:\n",
    "1. Open it\n",
    "2. What is the 'likelihood' value at index 17?\n",
    "3. What are the median values for the three columns?\n",
    "4. Are there NAN values?\n",
    "5. Fill the NAN values with -1\n",
    "6. Find all values with -1 and set them to NAN\n",
    "7. Interpolate missing values with a cubic spline function – would you say this is the optimal function for this case?\n",
    "8. Save the result as \"playaround_edit.h5\""
   ]
  },
  {
   "cell_type": "code",
   "execution_count": null,
   "metadata": {},
   "outputs": [],
   "source": [
    "# 1. Open\n",
    "playaround = pd.read_feather('../files/playaround.feather')\n",
    "playaround"
   ]
  },
  {
   "cell_type": "code",
   "execution_count": null,
   "metadata": {},
   "outputs": [],
   "source": [
    "# 2\n",
    "playaround.loc[17, 'likelihood']"
   ]
  },
  {
   "cell_type": "code",
   "execution_count": null,
   "metadata": {},
   "outputs": [],
   "source": [
    "# 3\n",
    "playaround.median()"
   ]
  },
  {
   "cell_type": "code",
   "execution_count": null,
   "metadata": {},
   "outputs": [],
   "source": [
    "# 4 – yes there are, in 'x' and 'y'\n",
    "playaround.isna().sum()"
   ]
  },
  {
   "cell_type": "code",
   "execution_count": null,
   "metadata": {},
   "outputs": [],
   "source": [
    "# 5\n",
    "playaround.fillna(-1, inplace=True)\n",
    "playaround"
   ]
  },
  {
   "cell_type": "code",
   "execution_count": null,
   "metadata": {},
   "outputs": [],
   "source": [
    "# 6\n",
    "playaround[playaround==-1] = np.nan\n",
    "playaround"
   ]
  },
  {
   "cell_type": "code",
   "execution_count": null,
   "metadata": {},
   "outputs": [],
   "source": [
    "# 7\n",
    "playaround.interpolate(method='cubicspline', inplace=True)\n",
    "playaround"
   ]
  },
  {
   "cell_type": "code",
   "execution_count": null,
   "metadata": {},
   "outputs": [],
   "source": [
    "playaround.plot()  # cubic spline leads to extreme values; other methods would be more suitable"
   ]
  },
  {
   "cell_type": "code",
   "execution_count": null,
   "metadata": {},
   "outputs": [],
   "source": [
    "# 8\n",
    "playaround.to_hdf('../files/playaround_edit.h5', key='playaround')"
   ]
  },
  {
   "cell_type": "markdown",
   "metadata": {},
   "source": [
    "# Experimental dataset"
   ]
  },
  {
   "cell_type": "markdown",
   "metadata": {},
   "source": [
    "The file \"files/20230428_VGC_0647_LaserOFFDLC_testdataset.csv\" contains the DeepLabCut output file of a mouse traversing 5 minutes in an elevated plus maze (EPM). Your task is to find out how much time in percentage the mouse spent in the open arms and how much time it spent in the closed arms."
   ]
  },
  {
   "cell_type": "markdown",
   "metadata": {},
   "source": [
    "Tip: In this case, the closed arm was positioned vertically, the open arms horizontally. Vertical walls are within 480 < x < 555."
   ]
  },
  {
   "cell_type": "markdown",
   "metadata": {},
   "source": [
    "For pros: Calculate the number of open arm entries"
   ]
  },
  {
   "cell_type": "markdown",
   "metadata": {},
   "source": [
    "## Importing data"
   ]
  },
  {
   "cell_type": "code",
   "execution_count": null,
   "metadata": {},
   "outputs": [],
   "source": [
    "dlc = pd.read_csv(\"../files/20230428_VGC_0647_LaserOFFDLC_testdataset.csv\")\n",
    "dlc"
   ]
  },
  {
   "cell_type": "markdown",
   "metadata": {},
   "source": [
    "## Clean up dataframe"
   ]
  },
  {
   "cell_type": "code",
   "execution_count": null,
   "metadata": {},
   "outputs": [],
   "source": [
    "bodyparts = list(dlc.iloc[0, 1:].unique()) + ['centroid']  # make list of bodyparts provided and add \"centroid\" to it\n",
    "dlc.columns = [dlc.iloc[0], dlc.iloc[1]]  # set a multi-index column from indeces 0 and 1\n",
    "dlc = dlc.drop('bodyparts', axis=1).drop([0, 1], axis=0).reset_index(drop=True)  # drop unnecessary header rows and columns\n",
    "dlc = dlc.astype(float)  # make sure data contained are float data type\n",
    "dlc"
   ]
  },
  {
   "cell_type": "markdown",
   "metadata": {},
   "source": [
    "## Clean up low confidence data"
   ]
  },
  {
   "cell_type": "code",
   "execution_count": null,
   "metadata": {},
   "outputs": [],
   "source": [
    "# confidence thresholding\n",
    "conf_thresh = 0.9\n",
    "dlc_clean = dlc.copy().drop('likelihood', axis=1, level=1)  # make a new \"clean\" data frame copy without \"likelihood\"\n",
    "for marker_name in bodyparts[:-1]:  # iterate over bodyparts (except the last, \"centroid\")\n",
    "    # for each bodypart/marker_name where x or y are below the set threshold, set values to NAN\n",
    "    dlc_clean.loc[(dlc.loc[:, (marker_name, 'likelihood')]<conf_thresh), (marker_name, ['x', 'y'])] = np.nan  \n",
    "dlc_clean = dlc_clean.interpolate(method='linear')  # perform a linear interpolation of the missing values"
   ]
  },
  {
   "cell_type": "markdown",
   "metadata": {},
   "source": [
    "## Calculate centroid"
   ]
  },
  {
   "cell_type": "code",
   "execution_count": null,
   "metadata": {},
   "outputs": [],
   "source": [
    "#calculate centroid\n",
    "for x in ['x', 'y']:  # first x values, then y values\n",
    "    # calculate the mean for x, then y, over all bodyparts, and send it to \"centroid\" column\n",
    "    dlc_clean['centroid', x] = dlc_clean.loc[:,(dlc_clean.columns.get_level_values(0).unique(), x)].mean(axis=1)"
   ]
  },
  {
   "cell_type": "markdown",
   "metadata": {},
   "source": [
    "## Median-filter traces\n"
   ]
  },
  {
   "cell_type": "code",
   "execution_count": null,
   "metadata": {},
   "outputs": [],
   "source": [
    "# smoothed traces\n",
    "dlc_smoothed = dlc_clean.rolling(200, center=True).median()\n",
    "dlc_smoothed1s = dlc_clean.rolling(40, center=True).median()"
   ]
  },
  {
   "cell_type": "markdown",
   "metadata": {},
   "source": [
    "## Calculate relative time in open arm"
   ]
  },
  {
   "cell_type": "code",
   "execution_count": null,
   "metadata": {},
   "outputs": [],
   "source": [
    "xwalls = [480, 555]  # these are the boundaries"
   ]
  },
  {
   "cell_type": "code",
   "execution_count": null,
   "metadata": {},
   "outputs": [],
   "source": [
    "# Time in open arm\n",
    "dlc_clean['InOpen'] = False  # make a new column with a Boolean data type if the mouse is in the open arm\n",
    "# select all times where the mouse is either left (x<480) or right (x>555) of the walls and set these to \"True\"\n",
    "dlc_clean.loc[((dlc_smoothed.centroid.x<xwalls[0])|(dlc_smoothed.centroid.x>xwalls[1])), 'InOpen'] = True"
   ]
  },
  {
   "cell_type": "code",
   "execution_count": null,
   "metadata": {},
   "outputs": [],
   "source": [
    "dlc_clean['InOpen'].mean()"
   ]
  },
  {
   "cell_type": "markdown",
   "metadata": {},
   "source": [
    "## (Calculate number of open arm entries)"
   ]
  },
  {
   "cell_type": "code",
   "execution_count": null,
   "metadata": {},
   "outputs": [],
   "source": [
    "fps = 40  # frame rate per seconds\n",
    "dlc_clean['Time_s'] = dlc_clean.index / fps  # adding a seconds-based time stamp to the data frame\n",
    "# Creating a Boolean if at any time point the mouse went from InOpen=0 to InOpen=1 using \".diff()\" method:\n",
    "dlc_clean['EnterOpen'] = dlc_clean.InOpen.astype(int).diff()==1\n",
    "\n",
    "# because this can be noisy if mice are on the border, you want to limit counting these for a given time window, say 5 seconds\n",
    "entrytimes = pd.Series(dlc_clean.loc[(dlc_clean.EnterOpen), 'Time_s'].diff())\n",
    "dlc_clean.loc[entrytimes.loc[(entrytimes>0)&(entrytimes<5)].index, 'EnterOpen'] = False # set minimum of 5 seconds between entries"
   ]
  },
  {
   "cell_type": "code",
   "execution_count": null,
   "metadata": {},
   "outputs": [],
   "source": [
    "dlc_clean['EnterOpen'].sum()"
   ]
  }
 ],
 "metadata": {
  "colab": {
   "authorship_tag": "ABX9TyOD7h1YgSe2r9bc4hrIYRJR",
   "include_colab_link": true,
   "provenance": [],
   "toc_visible": true
  },
  "kernelspec": {
   "display_name": "hippnac",
   "language": "python",
   "name": "python3"
  },
  "language_info": {
   "codemirror_mode": {
    "name": "ipython",
    "version": 3
   },
   "file_extension": ".py",
   "mimetype": "text/x-python",
   "name": "python",
   "nbconvert_exporter": "python",
   "pygments_lexer": "ipython3",
   "version": "3.12.2"
  }
 },
 "nbformat": 4,
 "nbformat_minor": 0
}
