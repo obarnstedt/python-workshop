{
 "cells": [
  {
   "cell_type": "markdown",
   "metadata": {
    "id": "r5zI6AgwstxP"
   },
   "source": [
    "# Intro to Visualisation"
   ]
  },
  {
   "cell_type": "code",
   "execution_count": null,
   "metadata": {},
   "outputs": [],
   "source": [
    "from matplotlib import pyplot as plt  # main basic plotting library in Python"
   ]
  },
  {
   "cell_type": "code",
   "execution_count": null,
   "metadata": {},
   "outputs": [],
   "source": [
    "# import previous data\n",
    "import pandas as pd\n",
    "dlc = pd.read_csv('../files/20230428_VGC_0647_LaserOFFDLC_testdataset.csv').iloc[:200, 1:7]\n",
    "dlc"
   ]
  },
  {
   "cell_type": "code",
   "execution_count": null,
   "metadata": {},
   "outputs": [],
   "source": [
    "dlc.columns = dlc.apply(lambda x: x[0]+'_'+x[1])\n",
    "dlc = dlc.iloc[2:].reset_index(drop=True).astype(float)\n",
    "dlc"
   ]
  },
  {
   "cell_type": "markdown",
   "metadata": {
    "id": "xZF1OgmOUB_9"
   },
   "source": [
    "## Static plotting"
   ]
  },
  {
   "cell_type": "markdown",
   "metadata": {},
   "source": [
    "### Pandas"
   ]
  },
  {
   "cell_type": "code",
   "execution_count": null,
   "metadata": {},
   "outputs": [],
   "source": [
    "dlc.plot()  # pandas dataframes have an in-built plotting method (very cool!)"
   ]
  },
  {
   "cell_type": "code",
   "execution_count": null,
   "metadata": {},
   "outputs": [],
   "source": [
    "dlc.plot(kind='line', x='nose_x', y='nose_y', xlabel='Position [x]', ylabel='Position[y]', xlim=[450, 550], ylim=[200, 550],\n",
    "        title='Mouse nose tracking data')"
   ]
  },
  {
   "cell_type": "code",
   "execution_count": null,
   "metadata": {},
   "outputs": [],
   "source": [
    "dlc.plot(kind='scatter', x='nose_x', y='nose_y', xlabel='Position [x]', ylabel='Position[y]', xlim=[450, 550], ylim=[200, 550],\n",
    "        title='Mouse nose tracking data')"
   ]
  },
  {
   "cell_type": "markdown",
   "metadata": {},
   "source": [
    "all pandas plotting parameters: https://pandas.pydata.org/docs/reference/api/pandas.DataFrame.plot.html#pandas.DataFrame.plot"
   ]
  },
  {
   "cell_type": "markdown",
   "metadata": {},
   "source": [
    "### Matplotlib"
   ]
  },
  {
   "cell_type": "markdown",
   "metadata": {},
   "source": [
    "partly modified from https://matplotlib.org/stable/tutorials/pyplot.html"
   ]
  },
  {
   "cell_type": "code",
   "execution_count": null,
   "metadata": {
    "colab": {
     "base_uri": "https://localhost:8080/",
     "height": 447
    },
    "id": "zXDodA6Q_0Hr",
    "outputId": "8e65ec20-afee-4dea-d2db-5c78066324b5"
   },
   "outputs": [],
   "source": [
    "plt.plot(dlc.nose_x, dlc.nose_y, '-g.')  # plot green lines with dots\n",
    "plt.plot(dlc['left paw_x'], dlc['left paw_y'], '-b.')  # plot blue lines with dots\n",
    "plt.ylabel('Position[y]')\n",
    "plt.title('Mouse nose tracking data')"
   ]
  },
  {
   "cell_type": "code",
   "execution_count": null,
   "metadata": {},
   "outputs": [],
   "source": [
    "plt.style.use('dark_background')\n",
    "\n",
    "plt.plot('nose_x', 'nose_y', linewidth=0.5, data=dlc)\n",
    "plt.scatter('nose_x', 'nose_y', c='nose_likelihood', data=dlc, cmap='gist_rainbow')\n",
    "plt.colorbar()"
   ]
  },
  {
   "cell_type": "code",
   "execution_count": null,
   "metadata": {},
   "outputs": [],
   "source": [
    "plt.style.use('default')\n",
    "\n",
    "fig, axs = plt.subplots(nrows=1, ncols=2, sharex=True, sharey=True)\n",
    "axs[0].scatter('nose_x', 'nose_y', c='nose_likelihood', data=dlc, cmap='gist_rainbow')\n",
    "axs[0].set_title('Nose')\n",
    "axs[1].scatter('left paw_x', 'left paw_y', c='left paw_likelihood', data=dlc, cmap='gist_rainbow')\n",
    "axs[1].set_title('Left paw')"
   ]
  },
  {
   "cell_type": "markdown",
   "metadata": {},
   "source": [
    "### Seaborn"
   ]
  },
  {
   "cell_type": "code",
   "execution_count": null,
   "metadata": {},
   "outputs": [],
   "source": [
    "import seaborn as sns"
   ]
  },
  {
   "cell_type": "code",
   "execution_count": null,
   "metadata": {
    "colab": {
     "base_uri": "https://localhost:8080/",
     "height": 466
    },
    "id": "D31FlQhHE-Og",
    "outputId": "89641cb3-9125-4f41-af47-d8728603ba75"
   },
   "outputs": [],
   "source": [
    "sns.scatterplot(data=dlc, x='nose_x', y='nose_y', hue='nose_likelihood', size='left paw_likelihood', palette='viridis')"
   ]
  },
  {
   "cell_type": "code",
   "execution_count": null,
   "metadata": {},
   "outputs": [],
   "source": [
    "# pandas correlation matrix\n",
    "dlc.corr()"
   ]
  },
  {
   "cell_type": "code",
   "execution_count": null,
   "metadata": {
    "colab": {
     "base_uri": "https://localhost:8080/",
     "height": 452
    },
    "id": "cAjIcLbEI1r0",
    "outputId": "a6dc7a2f-c704-48c4-e620-d5a81b2b5472"
   },
   "outputs": [],
   "source": [
    "sns.heatmap(dlc.corr(), label=True, center=0, cmap='seismic', annot=True)  # make a heatmap of cross-correlations"
   ]
  },
  {
   "cell_type": "code",
   "execution_count": null,
   "metadata": {},
   "outputs": [],
   "source": [
    "sns.lineplot(data=dlc)"
   ]
  },
  {
   "cell_type": "code",
   "execution_count": null,
   "metadata": {},
   "outputs": [],
   "source": [
    "epm = pd.read_feather('../files/EPM_data.feather')\n",
    "epm.columns = epm.columns.get_level_values(0)\n",
    "epm.head()"
   ]
  },
  {
   "cell_type": "markdown",
   "metadata": {},
   "source": [
    "### Transforming data from wide into long-table format"
   ]
  },
  {
   "cell_type": "markdown",
   "metadata": {
    "id": "BEtMgjtkcd4b"
   },
   "source": [
    "While many of us are used to collecting data in \"wide format\" in which different kinds of measurements are simply added as additional columns, this format quickly breaks down if we're dealing with multidimensional data (imagine we were collecting both behavioural performance values for each mouse per day as well as their respective weight). To get the most out of data frames, we need to transform data frames into a long format then, in which the kind of measurement is specified in one column, and the values are collected in another. This enables enhanced data interrogation and statistics."
   ]
  },
  {
   "cell_type": "code",
   "execution_count": null,
   "metadata": {},
   "outputs": [],
   "source": [
    "epm_long = epm.melt(var_name='measurement', id_vars=['Group', 'Mouse', 'Opto'])  # transformation into long format\n",
    "epm_long.head()"
   ]
  },
  {
   "cell_type": "code",
   "execution_count": null,
   "metadata": {},
   "outputs": [],
   "source": [
    "sns.catplot(data=epm_long, kind='bar', hue='Opto', row='Group', col='measurement', y='value')"
   ]
  },
  {
   "cell_type": "markdown",
   "metadata": {
    "id": "ursz3alvJ6qV"
   },
   "source": [
    "## Interactive plotting"
   ]
  },
  {
   "cell_type": "code",
   "execution_count": null,
   "metadata": {
    "colab": {
     "base_uri": "https://localhost:8080/",
     "height": 542
    },
    "id": "LOY2p-dCJ-Ct",
    "outputId": "138bceaa-3bab-4a1d-90fa-b5854f4409e1"
   },
   "outputs": [],
   "source": [
    "dlc.plot(backend='plotly')  # set pandas plotting backend to the interactive visualisation platform 'plotly'"
   ]
  },
  {
   "cell_type": "code",
   "execution_count": null,
   "metadata": {
    "colab": {
     "base_uri": "https://localhost:8080/",
     "height": 542
    },
    "id": "VQGEVQ6PV1Jy",
    "outputId": "519eb358-3d87-43b9-baf0-22c6d38935ee"
   },
   "outputs": [],
   "source": [
    "dlc.plot(backend='plotly', kind='box')"
   ]
  },
  {
   "cell_type": "code",
   "execution_count": null,
   "metadata": {
    "colab": {
     "base_uri": "https://localhost:8080/",
     "height": 542
    },
    "id": "GRnbKeO0WCL8",
    "outputId": "f29e5028-4c5f-462b-e5a9-f74458c46e25"
   },
   "outputs": [],
   "source": [
    "dlc.plot(backend='plotly', kind='scatter')"
   ]
  },
  {
   "cell_type": "markdown",
   "metadata": {
    "id": "jo3CJWzOXG_r"
   },
   "source": [
    "# Statistics"
   ]
  },
  {
   "cell_type": "markdown",
   "metadata": {
    "id": "ZUwc9_hjYi8D"
   },
   "source": [
    "## Classical statistics"
   ]
  },
  {
   "cell_type": "code",
   "execution_count": null,
   "metadata": {
    "colab": {
     "base_uri": "https://localhost:8080/",
     "height": 676
    },
    "id": "kAQEV1P-Ttaf",
    "outputId": "21fc09fa-7313-4646-d5eb-ed6d2e5106b1"
   },
   "outputs": [],
   "source": [
    "dlc  # let's have another look at our data frame"
   ]
  },
  {
   "cell_type": "code",
   "execution_count": null,
   "metadata": {
    "colab": {
     "base_uri": "https://localhost:8080/",
     "height": 300
    },
    "id": "Rb7tFl4HXL_e",
    "outputId": "676c9445-9365-42af-dc78-32dc11885523"
   },
   "outputs": [],
   "source": [
    "dlc.describe()  # pandas gives us basic statistics, ignoring NA values"
   ]
  },
  {
   "cell_type": "markdown",
   "metadata": {
    "id": "PgvUBvRhhEwR"
   },
   "source": [
    "Pingouin offers a wide range of test statistics that are both easy and intuitive to deploy and interpret; it also offers some nice plotting options. All functions can be found here: https://pingouin-stats.org/build/html/api.html#"
   ]
  },
  {
   "cell_type": "code",
   "execution_count": null,
   "metadata": {
    "colab": {
     "base_uri": "https://localhost:8080/",
     "height": 80
    },
    "id": "Pg9PpM7BXXYD",
    "outputId": "33aa0c81-ff42-4165-fd8b-67ca96b99ccd"
   },
   "outputs": [],
   "source": [
    "import pingouin as pg\n",
    "pg.ttest(dlc['nose_x'], dlc['left paw_x'])  # run a simple independent t-test between nose and paw x-values"
   ]
  },
  {
   "cell_type": "code",
   "execution_count": null,
   "metadata": {
    "colab": {
     "base_uri": "https://localhost:8080/",
     "height": 80
    },
    "id": "7iGOmKLyXrH1",
    "outputId": "aefd5be0-dadb-487f-db1b-ccfb3545cfc6"
   },
   "outputs": [],
   "source": [
    "pg.ttest(dlc['nose_x'], dlc['left paw_x'], paired=True)  # assuming these are paired samples"
   ]
  },
  {
   "cell_type": "code",
   "execution_count": null,
   "metadata": {},
   "outputs": [],
   "source": [
    "pg.corr(dlc['nose_x'], dlc['nose_y'])"
   ]
  },
  {
   "cell_type": "code",
   "execution_count": null,
   "metadata": {
    "colab": {
     "base_uri": "https://localhost:8080/"
    },
    "id": "B_GoObDHvrFZ",
    "outputId": "ac8d0d24-8634-4447-fb0d-b923af49b477"
   },
   "outputs": [],
   "source": [
    "plt.ioff()  # turns automatic display of plots off (otherwise plots below are shown twice)"
   ]
  },
  {
   "cell_type": "code",
   "execution_count": null,
   "metadata": {
    "colab": {
     "base_uri": "https://localhost:8080/",
     "height": 646
    },
    "id": "EFKG9gqMYxMk",
    "outputId": "f1439869-1398-498a-9d51-39cdc7585b35"
   },
   "outputs": [],
   "source": [
    "pg.plot_shift(dlc['nose_x'], dlc['left paw_x'])  # pingouin can also do some plotting"
   ]
  },
  {
   "cell_type": "code",
   "execution_count": null,
   "metadata": {},
   "outputs": [],
   "source": [
    "# let's make a sample dataframe and transform into long format:\n",
    "import numpy as np\n",
    "array = np.random.rand(20, 4)\n",
    "df = pd.DataFrame(data=array, index=range(20), columns=['col1', 'col2', 'col3', 'col4'])\n",
    "df['id'] = df.index  # we're adding an 'id' column based on the data frame index\n",
    "df_long = df.melt(var_name='measurement', id_vars='id')  # transformation into long format\n",
    "df_long"
   ]
  },
  {
   "cell_type": "code",
   "execution_count": null,
   "metadata": {},
   "outputs": [],
   "source": [
    "plt.ion()"
   ]
  },
  {
   "cell_type": "code",
   "execution_count": null,
   "metadata": {
    "colab": {
     "base_uri": "https://localhost:8080/",
     "height": 466
    },
    "id": "SKO93qYihW5j",
    "outputId": "3e780e7b-5c51-4a7e-fd3b-16d555cd623b"
   },
   "outputs": [],
   "source": [
    "pg.plot_paired(data=df_long, within='measurement', subject='id', dv='value')  # let's plot the data pretending we have four measurements from 20 subjects\n",
    "plt.show()"
   ]
  },
  {
   "cell_type": "code",
   "execution_count": null,
   "metadata": {
    "colab": {
     "base_uri": "https://localhost:8080/",
     "height": 80
    },
    "id": "bMagclBbazKP",
    "outputId": "ac2cc53c-eb41-4ad2-afb9-34b82df2b276"
   },
   "outputs": [],
   "source": [
    "pg.rm_anova(data=df_long, within='measurement', subject='id', dv='value')  # running a repeated-measures ANOVA across measurements"
   ]
  },
  {
   "cell_type": "code",
   "execution_count": null,
   "metadata": {
    "colab": {
     "base_uri": "https://localhost:8080/",
     "height": 237
    },
    "id": "rE6uJZaYdl9Y",
    "outputId": "7786bad1-63ee-4ee8-bbb7-8f0d31cc6c38"
   },
   "outputs": [],
   "source": [
    "pg.pairwise_tests(data=df_long, within='measurement', subject='id', dv='value', padjust='bonf')  # post-hoc tests using Bonferroni correction"
   ]
  },
  {
   "cell_type": "markdown",
   "metadata": {},
   "source": [
    "# Exercise:\n",
    "Are there differences in the time mice spent in the open arm between times with and without optogenetic stimulation? Are there differences between ChR-injected and control mice? Is there an interaction?\n",
    "Investigate the EPM dataframe by plotting and running statistics on it."
   ]
  },
  {
   "cell_type": "markdown",
   "metadata": {},
   "source": []
  }
 ],
 "metadata": {
  "colab": {
   "authorship_tag": "ABX9TyOD7h1YgSe2r9bc4hrIYRJR",
   "include_colab_link": true,
   "provenance": [],
   "toc_visible": true
  },
  "kernelspec": {
   "display_name": "hippnac",
   "language": "python",
   "name": "python3"
  },
  "language_info": {
   "codemirror_mode": {
    "name": "ipython",
    "version": 3
   },
   "file_extension": ".py",
   "mimetype": "text/x-python",
   "name": "python",
   "nbconvert_exporter": "python",
   "pygments_lexer": "ipython3",
   "version": "3.12.2"
  }
 },
 "nbformat": 4,
 "nbformat_minor": 0
}
