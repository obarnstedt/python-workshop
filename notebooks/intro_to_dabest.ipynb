{
 "cells": [
  {
   "cell_type": "markdown",
   "metadata": {},
   "source": [
    "# Intro da DABEST"
   ]
  },
  {
   "cell_type": "markdown",
   "metadata": {
    "id": "7oTuMUuugv_l"
   },
   "source": [
    "Classical statistics have various shortcomings that can be overcome by using estimation statistics. The [DABEST package](https://acclab.github.io/DABEST-python-docs/index.html) from the Claridge-Chang lab makes it fairly easy to employ and visualise."
   ]
  },
  {
   "cell_type": "markdown",
   "metadata": {},
   "source": [
    "Unfortunately, the package dependencies don't play very nicely within other environments, so it's best to create a new environment just for dabest: https://pypi.org/project/dabest/"
   ]
  },
  {
   "cell_type": "code",
   "execution_count": null,
   "metadata": {},
   "outputs": [],
   "source": [
    "# Imports\n",
    "import numpy as np\n",
    "import pandas as pd"
   ]
  },
  {
   "cell_type": "code",
   "execution_count": null,
   "metadata": {},
   "outputs": [],
   "source": [
    "# let's make a sample dataframe\n",
    "array = np.random.rand(20, 4)\n",
    "df = pd.DataFrame(data=array, index=range(20), columns=['col1', 'col2', 'col3', 'col4'])\n",
    "df['id'] = df.index  # we're adding an 'id' column based on the data frame index to allow paired statistics\n",
    "df"
   ]
  },
  {
   "cell_type": "markdown",
   "metadata": {},
   "source": [
    "## dependent samples"
   ]
  },
  {
   "cell_type": "code",
   "execution_count": null,
   "metadata": {
    "colab": {
     "base_uri": "https://localhost:8080/"
    },
    "id": "087S1Huogfqh",
    "outputId": "c42fb20a-27f8-4c18-de0f-362f1b2371ad"
   },
   "outputs": [],
   "source": [
    "import dabest\n",
    "df_dabest_paired = dabest.load(df, idx=('col1', 'col2', 'col3', 'col4'), paired='sequential', id_col='id')  # load data frame as a dabest object\n",
    "df_dabest"
   ]
  },
  {
   "cell_type": "code",
   "execution_count": null,
   "metadata": {
    "colab": {
     "base_uri": "https://localhost:8080/",
     "height": 215
    },
    "id": "Se1ZptqPhzuC",
    "outputId": "48cefe7e-9f9d-48f0-cb71-e0b418ed89e4"
   },
   "outputs": [],
   "source": [
    "df_dabest_paired.mean_diff.statistical_tests"
   ]
  },
  {
   "cell_type": "code",
   "execution_count": null,
   "metadata": {
    "colab": {
     "base_uri": "https://localhost:8080/",
     "height": 555
    },
    "id": "xjN-zkIWjSIj",
    "outputId": "0109cd29-1f4e-4331-a845-433cec8dc749"
   },
   "outputs": [],
   "source": [
    "df_dabest_paired.mean_diff.plot();  # semicolon suppresses double output"
   ]
  },
  {
   "cell_type": "markdown",
   "metadata": {},
   "source": [
    "## independent samples"
   ]
  },
  {
   "cell_type": "code",
   "execution_count": null,
   "metadata": {
    "id": "-0cGbc6JjiU4"
   },
   "outputs": [],
   "source": [
    "df_dabest_unpaired = dabest.load(df, idx=('col1', 'col2', 'col3', 'col4'))  # load data frame as a dabest object\n",
    "df_dabest_unpaired"
   ]
  },
  {
   "cell_type": "code",
   "execution_count": null,
   "metadata": {},
   "outputs": [],
   "source": [
    "df_dabest_unpaired.mean_diff.statistical_tests"
   ]
  },
  {
   "cell_type": "code",
   "execution_count": null,
   "metadata": {},
   "outputs": [],
   "source": [
    "df_dabest_unpaired.mean_diff.plot();  # semicolon suppresses double output"
   ]
  },
  {
   "cell_type": "markdown",
   "metadata": {},
   "source": [
    "# Exercise\n",
    "Is the time in the open arm significantly higher in ChR animals? Test with estimation statistics!"
   ]
  }
 ],
 "metadata": {
  "colab": {
   "authorship_tag": "ABX9TyOD7h1YgSe2r9bc4hrIYRJR",
   "include_colab_link": true,
   "provenance": [],
   "toc_visible": true
  },
  "kernelspec": {
   "display_name": "dabest",
   "language": "python",
   "name": "python3"
  },
  "language_info": {
   "codemirror_mode": {
    "name": "ipython",
    "version": 3
   },
   "file_extension": ".py",
   "mimetype": "text/x-python",
   "name": "python",
   "nbconvert_exporter": "python",
   "pygments_lexer": "ipython3",
   "version": "3.9.7"
  }
 },
 "nbformat": 4,
 "nbformat_minor": 0
}
